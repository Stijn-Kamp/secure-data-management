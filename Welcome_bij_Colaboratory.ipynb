{
  "cells": [
    {
      "cell_type": "markdown",
      "metadata": {
        "id": "view-in-github",
        "colab_type": "text"
      },
      "source": [
        "<a href=\"https://colab.research.google.com/github/Stijn-Kamp/secure-data-management/blob/main/Welcome_bij_Colaboratory.ipynb\" target=\"_parent\"><img src=\"https://colab.research.google.com/assets/colab-badge.svg\" alt=\"Open In Colab\"/></a>"
      ]
    },
    {
      "cell_type": "code",
      "source": [
        "!pip install mod\n",
        "!pip install blake3\n",
        "!pip install py-ecc"
      ],
      "metadata": {
        "id": "kNJIW-WM_L5P",
        "outputId": "eb57f1c1-e902-4c18-cb8d-f74b5d942802",
        "colab": {
          "base_uri": "https://localhost:8080/"
        }
      },
      "execution_count": 4,
      "outputs": [
        {
          "output_type": "stream",
          "name": "stdout",
          "text": [
            "Requirement already satisfied: mod in /usr/local/lib/python3.10/dist-packages (0.3.0)\n",
            "Collecting blake3\n",
            "  Downloading blake3-0.3.3-cp310-cp310-manylinux_2_17_x86_64.manylinux2014_x86_64.whl (1.2 MB)\n",
            "\u001b[2K     \u001b[90m━━━━━━━━━━━━━━━━━━━━━━━━━━━━━━━━━━━━━━━━\u001b[0m \u001b[32m1.2/1.2 MB\u001b[0m \u001b[31m17.2 MB/s\u001b[0m eta \u001b[36m0:00:00\u001b[0m\n",
            "\u001b[?25hInstalling collected packages: blake3\n",
            "Successfully installed blake3-0.3.3\n",
            "Requirement already satisfied: py-ecc in /usr/local/lib/python3.10/dist-packages (6.0.0)\n",
            "Requirement already satisfied: eth-typing<4,>=3.0.0 in /usr/local/lib/python3.10/dist-packages (from py-ecc) (3.5.1)\n",
            "Requirement already satisfied: eth-utils<3,>=2.0.0 in /usr/local/lib/python3.10/dist-packages (from py-ecc) (2.3.0)\n",
            "Requirement already satisfied: mypy-extensions>=0.4.1 in /usr/local/lib/python3.10/dist-packages (from py-ecc) (1.0.0)\n",
            "Requirement already satisfied: cached-property<2,>=1.5.1 in /usr/local/lib/python3.10/dist-packages (from py-ecc) (1.5.2)\n",
            "Requirement already satisfied: typing-extensions>=4.0.1 in /usr/local/lib/python3.10/dist-packages (from eth-typing<4,>=3.0.0->py-ecc) (4.5.0)\n",
            "Requirement already satisfied: eth-hash>=0.3.1 in /usr/local/lib/python3.10/dist-packages (from eth-utils<3,>=2.0.0->py-ecc) (0.5.2)\n",
            "Requirement already satisfied: cytoolz>=0.10.1 in /usr/local/lib/python3.10/dist-packages (from eth-utils<3,>=2.0.0->py-ecc) (0.12.2)\n",
            "Requirement already satisfied: toolz>=0.8.0 in /usr/local/lib/python3.10/dist-packages (from cytoolz>=0.10.1->eth-utils<3,>=2.0.0->py-ecc) (0.12.0)\n"
          ]
        }
      ]
    },
    {
      "cell_type": "code",
      "source": [
        "import random\n",
        "\n",
        "def miller_rabin(n, k):\n",
        "\n",
        "    # Implementation uses the Miller-Rabin Primality Test\n",
        "    # The optimal number of rounds for this test is 40\n",
        "    # See http://stackoverflow.com/questions/6325576/how-many-iterations-of-rabin-miller-should-i-use-for-cryptographic-safe-primes\n",
        "    # for justification\n",
        "\n",
        "    # If number is even, it's a composite number\n",
        "\n",
        "    if n == 2:\n",
        "        return True\n",
        "\n",
        "    if n % 2 == 0:\n",
        "        return False\n",
        "\n",
        "    r, s = 0, n - 1\n",
        "    while s % 2 == 0:\n",
        "        r += 1\n",
        "        s //= 2\n",
        "    for _ in range(k):\n",
        "        a = random.randrange(2, n - 1)\n",
        "        x = pow(a, s, n)\n",
        "        if x == 1 or x == n - 1:\n",
        "            continue\n",
        "        for _ in range(r - 1):\n",
        "            x = pow(x, 2, n)\n",
        "            if x == n - 1:\n",
        "                break\n",
        "        else:\n",
        "            return False\n",
        "    return True\n"
      ],
      "metadata": {
        "id": "NTPkmGCmAIm0"
      },
      "execution_count": null,
      "outputs": []
    },
    {
      "cell_type": "code",
      "source": [
        "from __future__ import annotations\n",
        "from random import randrange\n",
        "from math import prod\n",
        "from mod import Mod\n",
        "from functools import reduce\n",
        "from blake3 import blake3\n",
        "from hashlib import sha3_256\n",
        "from py_ecc.bn128 import G1, G2, pairing, add, multiply, eq\n",
        "import logging\n",
        "\n",
        "logging.basicConfig(level=logging.DEBUG)"
      ],
      "metadata": {
        "id": "j6oJEOAb-hRi"
      },
      "execution_count": 5,
      "outputs": []
    },
    {
      "cell_type": "code",
      "source": [
        "class MPECK:\n",
        "    \"\"\"\n",
        "    class used for the MPECK scheme\n",
        "    \"\"\"\n",
        "\n",
        "    def __init__(self):\n",
        "        self.keycount = 0 # number of keys generated\n",
        "\n",
        "        # Generate a random prime number of 256 bits using the miller rabin test\n",
        "        self.n: int = randrange(2**256, 2**257)\n",
        "        while not miller_rabin(self.n, 5000):\n",
        "            self.n = randrange(2**256, 2**257)\n",
        "\n",
        "        # Define the hash functions\n",
        "        def hash1(x: int):\n",
        "            h = int(blake3(x.to_bytes(length=32, byteorder=\"big\")).hexdigest(), 16)\n",
        "            return multiply(G1, h)\n",
        "\n",
        "        def hash2(x: int):\n",
        "            h = int(sha3_256(x.to_bytes(length=32, byteorder=\"big\")).hexdigest(), 16)\n",
        "            return multiply(G1, h)\n",
        "\n",
        "        self.h1 = hash1\n",
        "        self.h2 = hash2\n",
        "\n",
        "    def generate_key(self) -> (int, int):\n",
        "        x: int = randrange(0, self.n)\n",
        "        y = multiply(G2, x)\n",
        "        self.keycount += 1\n",
        "        return (y, x, self.keycount - 1)\n",
        "\n",
        "    def add_doc(self, public_keys: [], keywords: [int]):\n",
        "        s = randrange(0, self.n)\n",
        "        r = randrange(0, self.n)\n",
        "        A = multiply(G2, r)\n",
        "        B = {pk[1]: multiply(pk[0], s) for pk in public_keys}\n",
        "        C = [add(multiply(self.h1(kw), r), multiply(self.h2(kw), s)) for kw in keywords]\n",
        "        print(type(C))\n",
        "        return (A, B, C)\n",
        "\n",
        "    def trapdoor(self, secret_key: int, query: [(int, int)]):\n",
        "        t = randrange(0, self.n)\n",
        "        T1 = multiply(G2, t)\n",
        "        print(type(T1))\n",
        "        T2 = multiply(reduce(add, [self.h1(qw[0]) for qw in query]), t)\n",
        "        T3_exp = int((Mod(secret_key, self.n) ** -1) * t)\n",
        "        T3 = multiply(reduce(add, [self.h2(qw[0]) for qw in query]), T3_exp)\n",
        "        return (T1, T2, T3, [qw[1] for qw in query])\n",
        "\n",
        "    def test(self, public_key, S, T) -> bool:\n",
        "        T1 = T[0]\n",
        "        CI = reduce(add, [S[2][i] for i in T[3]])\n",
        "        print(type(CI))\n",
        "        A = S[0]\n",
        "        T2 = T[1]\n",
        "        B = S[1][public_key]\n",
        "        T3 = T[2]\n",
        "\n",
        "        a = pairing(T1, CI)\n",
        "        b = pairing(A, T2)\n",
        "        c = pairing(B, T3)\n",
        "\n",
        "        print(a)\n",
        "        print(b)\n",
        "        print(c)\n",
        "        print(b * c)\n",
        "        return a == b * c"
      ],
      "metadata": {
        "id": "5yVH8CZpAOAF"
      },
      "execution_count": null,
      "outputs": []
    },
    {
      "cell_type": "code",
      "source": [
        "mpeck = MPECK()\n",
        "key0 = mpeck.generate_key()\n",
        "S = mpeck.add_doc([(key0[0], key0[2])], [1])\n",
        "T = mpeck.trapdoor(key0[1], [(1, 0)])\n"
      ],
      "metadata": {
        "id": "7l5dAP-E-jNV",
        "outputId": "309898b4-418c-4ed0-d01c-d4ee6b395eb1",
        "colab": {
          "base_uri": "https://localhost:8080/"
        }
      },
      "execution_count": 6,
      "outputs": [
        {
          "output_type": "stream",
          "name": "stdout",
          "text": [
            "<class 'list'>\n",
            "<class 'tuple'>\n"
          ]
        }
      ]
    },
    {
      "cell_type": "code",
      "source": [
        "print(mpeck.test(key0[2], S, T))"
      ],
      "metadata": {
        "id": "pW0qI5MG-l8M",
        "outputId": "c9f74a6d-39e7-496c-98d1-8ae9675098dc",
        "colab": {
          "base_uri": "https://localhost:8080/"
        }
      },
      "execution_count": 7,
      "outputs": [
        {
          "output_type": "stream",
          "name": "stdout",
          "text": [
            "<class 'tuple'>\n",
            "(7288576565198867945707274666575712234944825791533672866064430996922992842511, 11292142668540045810694290078800240452410476332523334009588379520564718668610, 3671208998994615405950091049875469644132277661543013598666953772318128512520, 3369629113946997583075159373956290893995648992642454911029301872107899675133, 19567588485895604386319701971144903568057315666982946139491521093131452343737, 1369743132517143755800997794812831441054103328814594972223096815626623980223, 8999335004077851509444747009083209939651163869414408557235986381138862617726, 21036114497684551529333887756722200044076749004561865405424866156683839192159, 19790227151193049162692415687404881446708228551983187057009128135004094177758, 2645500471463593230754407511075401570664129116219476743846574055725778648538, 6029784303921205218663544239606398471961306030882920203536718808328463992323, 20126219670655231187806149532590351329194589996853135371219715280476077486342)\n",
            "(13688409361177283174239654556653112071967389954918193241833661043206806424360, 10980611067317700883299655816101879084435511988242923108347391179695030634059, 7161051167893727396498454021185877824318036222622770230972658587100304975477, 18551237654237505120528807895032776598910850897600673586167931523722732521889, 3517375549631910502531750916722550752304538157872572355716597552967578720510, 7808957839206284512105983489557257927604431098513198112928941918920734252693, 4675859779834801448347664105578812956697271475302159962788788411565362231382, 21043234750859616794641776081125482445951362414174183413749126016410628586117, 1261016604667986472248343089257196766204647800879448918566270582685374557648, 9863131454983457889629123047452923137324541327968320407532399402742479714672, 9853354331715913554232999525990305101112884697002975578735860432266893715376, 401756776460888197092663380116271824178192043977990941363420211011008407861)\n",
            "(14429834034519750279834679150203902440878812012438596678915981042045207393240, 15495690255637439981159123711897050968196582732244033658157226491371568083479, 16716119191660190959048448506187587703387555098480079473630358106092735547586, 19174306733015687824689063912566860564732768866493154150922671256800843279803, 5639290789728335360530646725222911850675854429537963728447871748843845369459, 14464264734011534599641008660182668773121975594364430656203507143014940098836, 6054787724324370065694323718673678506614322817991934316333659589990937491182, 20605817267869493562530079739946884732317828512638647081416627761679567419855, 21279484807596515842942055874121627382314823762615858200051246700916584072848, 14871285308485669219856462865738901319552018109530644115487711518462307040687, 2367921609046069281257330503125727606523957105452819421784588246856559189600, 4092406524900362082947017856705609025400692772516562719199908901749143626039)\n",
            "(19279779437705245726500424253183944908279458330245166186176339328884499479161, 10216346257785946581748779760372136845807285367497832274573413334003016057960, 8311912538392122700406089991770934230390991161468722863650776041006949695040, 4644236418318290880128486600219860229977058674257903645973444768424236871462, 4866363776704891982555490775250628306165760018201998635645336504757837462012, 9869894124244518891953372952759601861372690516024921996019437397174352958808, 4368013982826367928879448526346900353260225624011694388211969763028077594580, 14597742235302493702911864903849290485714189667775758226784294134832711942598, 824932753473735416741459954795789275771945373226599061431535259962381233030, 19956301508398589392875697845555065074566875970113184586878703537019664370156, 20362886985187825640691599547036270129718105040072644105841569876374823360086, 2707111655535904745446990514638884170024363945544194455955374388709635570693)\n",
            "False\n"
          ]
        }
      ]
    }
  ],
  "metadata": {
    "colab": {
      "name": "Welcome bij Colaboratory",
      "toc_visible": true,
      "provenance": [],
      "include_colab_link": true
    },
    "kernelspec": {
      "display_name": "Python 3",
      "name": "python3"
    }
  },
  "nbformat": 4,
  "nbformat_minor": 0
}